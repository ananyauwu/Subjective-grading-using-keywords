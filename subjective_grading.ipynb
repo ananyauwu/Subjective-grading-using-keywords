{
  "nbformat": 4,
  "nbformat_minor": 0,
  "metadata": {
    "colab": {
      "provenance": []
    },
    "kernelspec": {
      "name": "python3",
      "display_name": "Python 3"
    },
    "language_info": {
      "name": "python"
    }
  },
  "cells": [
    {
      "cell_type": "code",
      "source": [
        "!pip install fuzzywuzzy"
      ],
      "metadata": {
        "colab": {
          "base_uri": "https://localhost:8080/"
        },
        "id": "DlE698uXqWyi",
        "outputId": "1a829b7b-a082-4cec-f783-1c52cdd4b164"
      },
      "execution_count": null,
      "outputs": [
        {
          "output_type": "stream",
          "name": "stdout",
          "text": [
            "Requirement already satisfied: fuzzywuzzy in /usr/local/lib/python3.10/dist-packages (0.18.0)\n"
          ]
        }
      ]
    },
    {
      "cell_type": "code",
      "source": [
        "import openpyxl\n",
        "from fuzzywuzzy import fuzz"
      ],
      "metadata": {
        "id": "1Ps3NjIEqOlV"
      },
      "execution_count": null,
      "outputs": []
    },
    {
      "cell_type": "code",
      "source": [
        "ansl = []\n",
        "keyword = []"
      ],
      "metadata": {
        "id": "cq7ztlqJqe8Y"
      },
      "execution_count": null,
      "outputs": []
    },
    {
      "cell_type": "code",
      "source": [
        "def openmyfile(x):\n",
        "    global fileQ\n",
        "    global Qtext\n",
        "    global frf\n",
        "    global ktf\n",
        "    global cmf\n",
        "    global gmf\n",
        "    fileQ = x\n",
        "    loc = f\"{fileQ}.xlsx\"\n",
        "    wb = openpyxl.load_workbook(loc)\n",
        "    sheet = wb.active\n",
        "    Qtext = sheet.cell(row=4, column=1).value\n",
        "    frf = sheet.cell(row=2, column=2).value\n",
        "    ktf = sheet.cell(row=2, column=3).value\n",
        "    cmf = sheet.cell(row=2, column=4).value\n",
        "    gmf = sheet.cell(row=2, column=5).value\n",
        "    ans_key(sheet)"
      ],
      "metadata": {
        "id": "EgO0NVQtqiRd"
      },
      "execution_count": null,
      "outputs": []
    },
    {
      "cell_type": "code",
      "source": [
        "def ans_key(s):\n",
        "    global strans\n",
        "    strans = \"\"\n",
        "    global ansl\n",
        "    ansl.clear()\n",
        "    global keyword\n",
        "    keyword.clear()\n",
        "\n",
        "    for i, row in enumerate(s.iter_rows(min_row=7, max_row=s.max_row, min_col=1, max_col=1, values_only=True), start=7):\n",
        "        t = row[0]\n",
        "        ansl.append(t)\n",
        "        strans += f\"\\n\\n{i - 5}) {t}\"\n",
        "\n",
        "    for a in ansl:\n",
        "        ass = a.split()\n",
        "        for sas in ass:\n",
        "            sas = sas.lower()\n",
        "            for check in ansl:\n",
        "                if a == check:\n",
        "                    continue\n",
        "                else:\n",
        "                    assc = check.split()\n",
        "                    for x in assc:\n",
        "                        x = x.lower()\n",
        "                        if x == sas and x not in keyword:\n",
        "                            keyword.append(x)"
      ],
      "metadata": {
        "id": "mEgLh8ISqnb8"
      },
      "execution_count": null,
      "outputs": []
    },
    {
      "cell_type": "code",
      "source": [
        "def evaluate_answer(text):\n",
        "    global ans\n",
        "    ans = 0\n",
        "    global ansl\n",
        "    global keyword\n",
        "    global kt\n",
        "    global cm\n",
        "    global gm\n",
        "    global fr\n",
        "    global g\n",
        "\n",
        "    for ev in ansl:\n",
        "        ans += fuzz.token_set_ratio(ev, text)\n",
        "        ans += fuzz.ratio(ev, text)\n",
        "\n",
        "    english_words = load_words()\n",
        "    g = 0\n",
        "    text = text.strip().lower()\n",
        "    words = text.split()\n",
        "    for t in words:\n",
        "        if t[-1] == \".\":\n",
        "            t = t[:-1]\n",
        "        if t in english_words:\n",
        "            g += 1\n",
        "\n",
        "    gm = g / len(words)\n",
        "    fr = ans / (len(ansl))\n",
        "\n",
        "    repeat = []\n",
        "    for t in words:\n",
        "        t = t.lower()\n",
        "        if t in keyword and t not in repeat:\n",
        "            repeat.append(t)\n",
        "\n",
        "    if len(repeat) == 0:\n",
        "        cm = 0\n",
        "    else:\n",
        "        cm = len(repeat) / len(words)\n",
        "\n",
        "    r = fr / (frf * 100) + ktf * (len(repeat) / len(keyword)) + cmf * cm + gmf * gm\n",
        "\n",
        "    if r > 0.95:\n",
        "        r = 10\n",
        "    elif r > 0.9:\n",
        "        r = 9.5\n",
        "    elif r > 0.85:\n",
        "        r = 9\n",
        "    elif r > 0.8:\n",
        "        r = 8.5\n",
        "    elif r > 0.75:\n",
        "        r = 8\n",
        "    elif r > 0.7:\n",
        "        r = 7.5\n",
        "    elif r > 0.65:\n",
        "        r = 7\n",
        "    elif r > 0.6:\n",
        "        r = 6.5\n",
        "    elif r > 0.55:\n",
        "        r = 6\n",
        "    elif r > 0.5:\n",
        "        r = 5.5\n",
        "    elif r > 0.45:\n",
        "        r = 5\n",
        "    elif r > 0.4:\n",
        "        r = 4.5\n",
        "    elif r > 0.35:\n",
        "        r = 4\n",
        "    elif r > 0.3:\n",
        "        r = 3.5\n",
        "    elif r > 0.25:\n",
        "        r = 3\n",
        "    elif r > 0.2:\n",
        "        r = 2.5\n",
        "    elif r > 0.15:\n",
        "        r = 2\n",
        "    elif r > 0.1:\n",
        "        r = 1.5\n",
        "    elif r > 0.05:\n",
        "        r = 1\n",
        "    else:\n",
        "        r = 0\n",
        "\n",
        "    ans = str(r)"
      ],
      "metadata": {
        "id": "94UDbOeBqxCD"
      },
      "execution_count": null,
      "outputs": []
    },
    {
      "cell_type": "code",
      "source": [
        "def load_words():\n",
        "    with open('words_alpha.json') as word_file:\n",
        "        valid_words = set(word_file.read().split())\n",
        "    return valid_words"
      ],
      "metadata": {
        "id": "lwQmCxkSq5XF"
      },
      "execution_count": null,
      "outputs": []
    },
    {
      "cell_type": "code",
      "source": [
        "def show_evaluation_report():\n",
        "    global ans\n",
        "    global ansQ\n",
        "    global ansT\n",
        "    global ansC\n",
        "    global ansG\n",
        "    global ansK\n",
        "    print(\"Subject:\", file)\n",
        "    print(\"Question:\", Qtext)\n",
        "    print(\"Your Answer:\", ansQ)\n",
        "    print(\"Total Marks:\", ans)\n",
        "    print(\"Similarity Factor:\", fr/100)\n",
        "    print(\"Grammar Accuracy:\", gm)\n",
        "    print(\"keyword accuracy:\", ktf)"
      ],
      "metadata": {
        "id": "9UCnbVeBq5_i"
      },
      "execution_count": null,
      "outputs": []
    },
    {
      "cell_type": "code",
      "source": [
        "file = 'Philosophy'\n",
        "openmyfile(file)"
      ],
      "metadata": {
        "id": "BwExpwFBrAq5"
      },
      "execution_count": null,
      "outputs": []
    },
    {
      "cell_type": "code",
      "source": [
        "print(Qtext)"
      ],
      "metadata": {
        "colab": {
          "base_uri": "https://localhost:8080/"
        },
        "id": "IA_RZ-FBvFvm",
        "outputId": "a3ff85aa-25a3-4a96-aceb-4ae5506b4551"
      },
      "execution_count": null,
      "outputs": [
        {
          "output_type": "stream",
          "name": "stdout",
          "text": [
            " Q1: Who was Jean-Paul Sartre? \n"
          ]
        }
      ]
    },
    {
      "cell_type": "code",
      "source": [
        "ansQ = input(\"Enter your answer here: \")"
      ],
      "metadata": {
        "colab": {
          "base_uri": "https://localhost:8080/"
        },
        "id": "vWmZZZW2uM1f",
        "outputId": "0fe20567-e492-4652-ebd0-505b282c7dea"
      },
      "execution_count": null,
      "outputs": [
        {
          "name": "stdout",
          "output_type": "stream",
          "text": [
            "Enter your answer here: Jean-Paul Sartre is an extrordinary philosopher and artist \n"
          ]
        }
      ]
    },
    {
      "cell_type": "code",
      "source": [
        "evaluate_answer(ansQ)"
      ],
      "metadata": {
        "id": "PCczjkSNvauZ"
      },
      "execution_count": null,
      "outputs": []
    },
    {
      "cell_type": "code",
      "source": [
        "show_evaluation_report()"
      ],
      "metadata": {
        "colab": {
          "base_uri": "https://localhost:8080/"
        },
        "id": "3qwN2c-5qLzY",
        "outputId": "c01c4d7b-4c45-4bbd-f382-2cb888b198a8"
      },
      "execution_count": null,
      "outputs": [
        {
          "output_type": "stream",
          "name": "stdout",
          "text": [
            "Subject: Philosophy\n",
            "Question:  Q1: Who was Jean-Paul Sartre? \n",
            "Your Answer: Jean-Paul Sartre is an extrordinary philosopher and artist \n",
            "Total Marks: 8\n",
            "Similarity Factor: 0.9\n",
            "Grammar Accuracy: 0.625\n",
            "keyword accuracy: 0.5\n"
          ]
        }
      ]
    }
  ]
}